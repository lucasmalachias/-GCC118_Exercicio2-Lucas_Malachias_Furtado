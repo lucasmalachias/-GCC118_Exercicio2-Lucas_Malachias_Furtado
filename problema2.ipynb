{
  "nbformat": 4,
  "nbformat_minor": 0,
  "metadata": {
    "colab": {
      "provenance": []
    },
    "kernelspec": {
      "name": "python3",
      "display_name": "Python 3"
    },
    "language_info": {
      "name": "python"
    }
  },
  "cells": [
    {
      "cell_type": "markdown",
      "source": [
        "# GCC118 - Programação Matemática - Problema 2\n",
        "## Universidade Federal de Lavras\n",
        "### Instituto de Ciências Exatas e Tecnológicas\n",
        "#### Profa. Andreza C. Beezão Moreira (DMM/UFLA)\n",
        "#### Prof. Mayron César O. Moreira (DCC/UFLA)\n",
        "#### Aluno: Lucas Malachias Furtado - 202110665"
      ],
      "metadata": {
        "id": "E8A5EMT__9_2"
      }
    },
    {
      "cell_type": "markdown",
      "source": [
        "### Modelo\n",
        "\n",
        "Variáveis de decisão\n",
        "\n",
        "- xAB​: quantidade de óleo transportado de A para B diretamente.\n",
        "- xAN​: quantidade de óleo transportado de A para a estação intermediária norte.\n",
        "- xAS​: quantidade de óleo transportado de A para a estação intermediária sul.\n",
        "- xNB​: quantidade de óleo transportado da estação intermediária norte para B.\n",
        "- xSB​: quantidade de óleo transportado da estação intermediária sul para B.\n",
        "- xSN​: quantidade de óleo transportado da estação intermediária sul para a estação intermediária norte.\n",
        "\n",
        "Função objetivo:\n",
        "\n",
        "\\begin{equation}\n",
        "\\max Z = x_{AB} + x_{NB} + x_{SB}\n",
        "\\end{equation}\n",
        "\n",
        "sujeito a:\n",
        "\n",
        "\\begin{alignat}{2}\n",
        "x_{AB} + x_{AN} + x_{AS} &\\le 200 && \\qquad \\text{(Fluxo em A)} \\\\\n",
        "x_{AN} + x_{SN} - x_{NB} &\\le 100 && \\qquad \\text{(Fluxo na estação intermediária norte)} \\\\\n",
        "x_{AS} - x_{SB} - x_{SN} &\\le 150 && \\qquad \\text{(Fluxo na estação intermediária sul)} \\\\\n",
        "x_{NB} + x_{SB} + x_{AB} &\\le 300 && \\qquad \\text{(Fluxo em B)} \\\\\n",
        "x_{AB}, x_{AN}, x_{AS}, x_{NB}, x_{SB}, x_{SN} &\\ge 0 && \\qquad \\text{(Não negatividade)}\n",
        "\\end{alignat}\n"
      ],
      "metadata": {
        "id": "YbwFTd7ZFEj_"
      }
    },
    {
      "cell_type": "markdown",
      "source": [
        "### Solução"
      ],
      "metadata": {
        "id": "GdGUTm-jGJPp"
      }
    },
    {
      "cell_type": "code",
      "source": [
        "!pip install gurobipy"
      ],
      "metadata": {
        "colab": {
          "base_uri": "https://localhost:8080/"
        },
        "id": "BOij4GctGlxQ",
        "outputId": "17846015-28a4-40f0-c641-657c9afd82d7"
      },
      "execution_count": 1,
      "outputs": [
        {
          "output_type": "stream",
          "name": "stdout",
          "text": [
            "Collecting gurobipy\n",
            "  Downloading gurobipy-12.0.0-cp310-cp310-manylinux2014_x86_64.manylinux_2_17_x86_64.whl.metadata (15 kB)\n",
            "Downloading gurobipy-12.0.0-cp310-cp310-manylinux2014_x86_64.manylinux_2_17_x86_64.whl (14.4 MB)\n",
            "\u001b[2K   \u001b[90m━━━━━━━━━━━━━━━━━━━━━━━━━━━━━━━━━━━━━━━━\u001b[0m \u001b[32m14.4/14.4 MB\u001b[0m \u001b[31m54.7 MB/s\u001b[0m eta \u001b[36m0:00:00\u001b[0m\n",
            "\u001b[?25hInstalling collected packages: gurobipy\n",
            "Successfully installed gurobipy-12.0.0\n"
          ]
        }
      ]
    },
    {
      "cell_type": "code",
      "execution_count": 2,
      "metadata": {
        "colab": {
          "base_uri": "https://localhost:8080/"
        },
        "id": "H90h9Y4c_5zZ",
        "outputId": "97016d8d-2d43-415f-e10c-dbb553847998"
      },
      "outputs": [
        {
          "output_type": "stream",
          "name": "stdout",
          "text": [
            "Restricted license - for non-production use only - expires 2026-11-23\n",
            "Gurobi Optimizer version 12.0.0 build v12.0.0rc1 (linux64 - \"Ubuntu 22.04.3 LTS\")\n",
            "\n",
            "CPU model: Intel(R) Xeon(R) CPU @ 2.20GHz, instruction set [SSE2|AVX|AVX2]\n",
            "Thread count: 1 physical cores, 2 logical processors, using up to 2 threads\n",
            "\n",
            "Optimize a model with 4 rows, 6 columns and 12 nonzeros\n",
            "Model fingerprint: 0xb4c1b5e3\n",
            "Coefficient statistics:\n",
            "  Matrix range     [1e+00, 1e+00]\n",
            "  Objective range  [1e+00, 1e+00]\n",
            "  Bounds range     [0e+00, 0e+00]\n",
            "  RHS range        [1e+02, 3e+02]\n",
            "Presolve removed 4 rows and 6 columns\n",
            "Presolve time: 0.01s\n",
            "Presolve: All rows and columns removed\n",
            "Iteration    Objective       Primal Inf.    Dual Inf.      Time\n",
            "       0    3.0000000e+02   0.000000e+00   0.000000e+00      0s\n",
            "\n",
            "Solved in 0 iterations and 0.01 seconds (0.00 work units)\n",
            "Optimal objective  3.000000000e+02\n",
            "Solução ótima encontrada!\n",
            "Quantidade transportada diretamente de A para B: 0.0\n",
            "Quantidade transportada de A para Norte: 0.0\n",
            "Quantidade transportada de A para Sul: 0.0\n",
            "Quantidade transportada de Norte para B: 300.0\n",
            "Quantidade transportada de Sul para B: 0.0\n",
            "Quantidade transportada de Sul para Norte: 0.0\n",
            "Total transportado para B: 300.0\n"
          ]
        }
      ],
      "source": [
        "# Criação do modelo\n",
        "from gurobipy import Model, GRB\n",
        "\n",
        "model = Model(\"Transportadora_de_Oleos\")\n",
        "\n",
        "# Variáveis de decisão\n",
        "x_AB = model.addVar(name=\"x_AB\", lb=0)\n",
        "x_AN = model.addVar(name=\"x_AN\", lb=0)\n",
        "x_AS = model.addVar(name=\"x_AS\", lb=0)\n",
        "x_NB = model.addVar(name=\"x_NB\", lb=0)\n",
        "x_SB = model.addVar(name=\"x_SB\", lb=0)\n",
        "x_SN = model.addVar(name=\"x_SN\", lb=0)\n",
        "\n",
        "# Função objetivo\n",
        "model.setObjective(x_AB + x_NB + x_SB, GRB.MAXIMIZE)\n",
        "\n",
        "# Restrições\n",
        "model.addConstr(x_AB + x_AN + x_AS <= 200, \"Fluxo_A\")\n",
        "model.addConstr(x_AN + x_SN - x_NB <= 100, \"Fluxo_Norte\")\n",
        "model.addConstr(x_AS - x_SB - x_SN <= 150, \"Fluxo_Sul\")\n",
        "model.addConstr(x_NB + x_SB + x_AB <= 300, \"Fluxo_B\")\n",
        "\n",
        "# Resolução\n",
        "model.optimize()\n",
        "\n",
        "# Resultados\n",
        "if model.status == GRB.OPTIMAL:\n",
        "    print(\"Solução ótima encontrada!\")\n",
        "    print(f\"Quantidade transportada diretamente de A para B: {x_AB.x}\")\n",
        "    print(f\"Quantidade transportada de A para Norte: {x_AN.x}\")\n",
        "    print(f\"Quantidade transportada de A para Sul: {x_AS.x}\")\n",
        "    print(f\"Quantidade transportada de Norte para B: {x_NB.x}\")\n",
        "    print(f\"Quantidade transportada de Sul para B: {x_SB.x}\")\n",
        "    print(f\"Quantidade transportada de Sul para Norte: {x_SN.x}\")\n",
        "    print(f\"Total transportado para B: {model.objVal}\")\n",
        "else:\n",
        "    print(\"Não foi possível encontrar uma solução.\")"
      ]
    },
    {
      "cell_type": "markdown",
      "source": [
        "### 2 - Análise de sensibilidade"
      ],
      "metadata": {
        "id": "nsy62b09GLGe"
      }
    },
    {
      "cell_type": "code",
      "source": [
        "# Análise de sensibilidade\n",
        "for c in model.getConstrs():\n",
        "    print(f\"Restrição: {c.ConstrName}\")\n",
        "    print(f\"Preço Sombra: {c.Pi}\")\n",
        "    print(f\"Intervalo de Variabilidade: [{c.SARHSLow}, {c.SARHSUp}]\")"
      ],
      "metadata": {
        "colab": {
          "base_uri": "https://localhost:8080/"
        },
        "id": "ZRjSijdOGNtE",
        "outputId": "7a303f6a-b077-445d-b75f-5a5b7c087bcf"
      },
      "execution_count": 3,
      "outputs": [
        {
          "output_type": "stream",
          "name": "stdout",
          "text": [
            "Restrição: Fluxo_A\n",
            "Preço Sombra: 0.0\n",
            "Intervalo de Variabilidade: [0.0, inf]\n",
            "Restrição: Fluxo_Norte\n",
            "Preço Sombra: 0.0\n",
            "Intervalo de Variabilidade: [-300.0, inf]\n",
            "Restrição: Fluxo_Sul\n",
            "Preço Sombra: 0.0\n",
            "Intervalo de Variabilidade: [0.0, inf]\n",
            "Restrição: Fluxo_B\n",
            "Preço Sombra: 1.0\n",
            "Intervalo de Variabilidade: [0.0, inf]\n"
          ]
        }
      ]
    },
    {
      "cell_type": "markdown",
      "source": [
        "O preço sombra indica o impacto de aumentar a capacidade de uma rota no transporte total.\n",
        "Os intervalos de variabilidade indicam até que ponto as capacidades das rotas podem variar sem alterar a solução ótima."
      ],
      "metadata": {
        "id": "V4u7jsDaGwzK"
      }
    }
  ]
}