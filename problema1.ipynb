{
  "nbformat": 4,
  "nbformat_minor": 0,
  "metadata": {
    "colab": {
      "provenance": []
    },
    "kernelspec": {
      "name": "python3",
      "display_name": "Python 3"
    },
    "language_info": {
      "name": "python"
    }
  },
  "cells": [
    {
      "cell_type": "markdown",
      "source": [
        "# GCC118 - Programação Matemática - Problema 1\n",
        "## Universidade Federal de Lavras\n",
        "### Instituto de Ciências Exatas e Tecnológicas\n",
        "#### Profa. Andreza C. Beezão Moreira (DMM/UFLA)\n",
        "#### Prof. Mayron César O. Moreira (DCC/UFLA)\n",
        "#### Aluno: Lucas Malachias Furtado - 202110665"
      ],
      "metadata": {
        "id": "E8A5EMT__9_2"
      }
    },
    {
      "cell_type": "markdown",
      "source": [
        "### 1 - Modelo\n",
        "\n",
        "Variáveis de decisão:\n",
        "\n",
        "- x1​: número de relógios de pedestal a serem produzidos semanalmente.\n",
        "- x2​: número de relógios de parede a serem produzidos semanalmente.\n",
        "\n",
        "Função objetivo:\n",
        "\n",
        "\\begin{equation}\n",
        "\\max Z = 300x_1 + 200x_2\n",
        "\\end{equation}\n",
        "\n",
        "sujeito a:\n",
        "\n",
        "\\begin{alignat}{2}\n",
        "6x_1 + 4x_2 &\\le 40 && \\qquad \\text{(Horas disponíveis de João)} \\\\\n",
        "8x_1 + 4x_2 &\\le 40 && \\qquad \\text{(Horas disponíveis de Ana)} \\\\\n",
        "3x_1 + 3x_2 &\\le 20 && \\qquad \\text{(Horas disponíveis de Lídia)} \\\\\n",
        "x_1, x_2 &\\ge 0 && \\qquad \\text{(Não negatividade)}\n",
        "\\end{alignat}\n"
      ],
      "metadata": {
        "id": "YbwFTd7ZFEj_"
      }
    },
    {
      "cell_type": "markdown",
      "source": [
        "### Solução"
      ],
      "metadata": {
        "id": "GdGUTm-jGJPp"
      }
    },
    {
      "cell_type": "code",
      "source": [
        "!pip install gurobipy"
      ],
      "metadata": {
        "colab": {
          "base_uri": "https://localhost:8080/"
        },
        "id": "BOij4GctGlxQ",
        "outputId": "ad6f0380-214c-40f4-ac94-1abad09d1e00"
      },
      "execution_count": 2,
      "outputs": [
        {
          "output_type": "stream",
          "name": "stdout",
          "text": [
            "Collecting gurobipy\n",
            "  Downloading gurobipy-12.0.0-cp310-cp310-manylinux2014_x86_64.manylinux_2_17_x86_64.whl.metadata (15 kB)\n",
            "Downloading gurobipy-12.0.0-cp310-cp310-manylinux2014_x86_64.manylinux_2_17_x86_64.whl (14.4 MB)\n",
            "\u001b[2K   \u001b[90m━━━━━━━━━━━━━━━━━━━━━━━━━━━━━━━━━━━━━━━━\u001b[0m \u001b[32m14.4/14.4 MB\u001b[0m \u001b[31m80.5 MB/s\u001b[0m eta \u001b[36m0:00:00\u001b[0m\n",
            "\u001b[?25hInstalling collected packages: gurobipy\n",
            "Successfully installed gurobipy-12.0.0\n"
          ]
        }
      ]
    },
    {
      "cell_type": "code",
      "execution_count": 3,
      "metadata": {
        "colab": {
          "base_uri": "https://localhost:8080/"
        },
        "id": "H90h9Y4c_5zZ",
        "outputId": "6d77ba5d-8ace-4f82-d0da-3d33242a0237"
      },
      "outputs": [
        {
          "output_type": "stream",
          "name": "stdout",
          "text": [
            "Restricted license - for non-production use only - expires 2026-11-23\n",
            "Gurobi Optimizer version 12.0.0 build v12.0.0rc1 (linux64 - \"Ubuntu 22.04.3 LTS\")\n",
            "\n",
            "CPU model: Intel(R) Xeon(R) CPU @ 2.20GHz, instruction set [SSE2|AVX|AVX2]\n",
            "Thread count: 1 physical cores, 2 logical processors, using up to 2 threads\n",
            "\n",
            "Optimize a model with 3 rows, 2 columns and 6 nonzeros\n",
            "Model fingerprint: 0x6103ff60\n",
            "Coefficient statistics:\n",
            "  Matrix range     [3e+00, 8e+00]\n",
            "  Objective range  [2e+02, 3e+02]\n",
            "  Bounds range     [0e+00, 0e+00]\n",
            "  RHS range        [2e+01, 4e+01]\n",
            "Presolve time: 0.01s\n",
            "Presolved: 3 rows, 2 columns, 6 nonzeros\n",
            "\n",
            "Iteration    Objective       Primal Inf.    Dual Inf.      Time\n",
            "       0    5.0000000e+32   4.250000e+30   5.000000e+02      0s\n",
            "       2    1.6666667e+03   0.000000e+00   0.000000e+00      0s\n",
            "\n",
            "Solved in 2 iterations and 0.01 seconds (0.00 work units)\n",
            "Optimal objective  1.666666667e+03\n",
            "Solução ótima encontrada!\n",
            "Relógios de pedestal: 3.333333333333333\n",
            "Relógios de parede: 3.3333333333333335\n",
            "Lucro total: R$ 1666.67\n"
          ]
        }
      ],
      "source": [
        "from gurobipy import Model, GRB\n",
        "\n",
        "# Criação do modelo\n",
        "model = Model(\"Empresa_de_Relogios\")\n",
        "\n",
        "# Variáveis de decisão\n",
        "x1 = model.addVar(name=\"Relogio_Pedestal\", vtype=GRB.CONTINUOUS, lb=0)\n",
        "x2 = model.addVar(name=\"Relogio_Parede\", vtype=GRB.CONTINUOUS, lb=0)\n",
        "\n",
        "# Função objetivo\n",
        "model.setObjective(300 * x1 + 200 * x2, GRB.MAXIMIZE)\n",
        "\n",
        "# Restrições\n",
        "model.addConstr(6 * x1 + 4 * x2 <= 40, \"Horas_Joao\")\n",
        "model.addConstr(8 * x1 + 4 * x2 <= 40, \"Horas_Ana\")\n",
        "model.addConstr(3 * x1 + 3 * x2 <= 20, \"Horas_Lidia\")\n",
        "\n",
        "# Resolução\n",
        "model.optimize()\n",
        "\n",
        "# Resultados\n",
        "if model.status == GRB.OPTIMAL:\n",
        "    print(\"Solução ótima encontrada!\")\n",
        "    print(f\"Relógios de pedestal: {x1.x}\")\n",
        "    print(f\"Relógios de parede: {x2.x}\")\n",
        "    print(f\"Lucro total: R$ {model.objVal:.2f}\")\n",
        "else:\n",
        "    print(\"Não foi possível encontrar uma solução.\")"
      ]
    },
    {
      "cell_type": "markdown",
      "source": [
        "### 2 - Análise de sensibilidade"
      ],
      "metadata": {
        "id": "nsy62b09GLGe"
      }
    },
    {
      "cell_type": "code",
      "source": [
        "# Análise de sensibilidade\n",
        "for c in model.getConstrs():\n",
        "    print(f\"Restrição: {c.ConstrName}\")\n",
        "    print(f\"Preço Sombra: {c.Pi}\")\n",
        "    print(f\"Intervalo de Variabilidade: [{c.SARHSLow}, {c.SARHSUp}]\")"
      ],
      "metadata": {
        "colab": {
          "base_uri": "https://localhost:8080/"
        },
        "id": "ZRjSijdOGNtE",
        "outputId": "e9d6c8b7-edcd-4584-a0d2-fc490fe2054b"
      },
      "execution_count": 4,
      "outputs": [
        {
          "output_type": "stream",
          "name": "stdout",
          "text": [
            "Restrição: Horas_Joao\n",
            "Preço Sombra: 0.0\n",
            "Intervalo de Variabilidade: [33.333333333333336, inf]\n",
            "Restrição: Horas_Ana\n",
            "Preço Sombra: 25.0\n",
            "Intervalo de Variabilidade: [26.666666666666668, 53.33333333333333]\n",
            "Restrição: Horas_Lidia\n",
            "Preço Sombra: 33.333333333333336\n",
            "Intervalo de Variabilidade: [15.0, 30.0]\n"
          ]
        }
      ]
    },
    {
      "cell_type": "markdown",
      "source": [
        "O preço sombra de cada restrição indica o impacto no lucro ao liberar uma unidade de recurso adicional.\n",
        "O intervalo de variabilidade indica até que ponto o recurso pode variar sem alterar o conjunto ótimo."
      ],
      "metadata": {
        "id": "V4u7jsDaGwzK"
      }
    },
    {
      "cell_type": "markdown",
      "source": [
        "### 3 - Qual sócio deve aumentar horas?:\n",
        "\n",
        "O sócio associado à restrição com maior preço sombra é o que deve aumentar as horas disponíveis, pois isso gera o maior impacto no lucro."
      ],
      "metadata": {
        "id": "pR-o3niSG6uI"
      }
    },
    {
      "cell_type": "markdown",
      "source": [
        "### 4 - Variáveis duais iguais a zero:\n",
        "\n",
        "Se o preço sombra de uma restrição for zero, isso significa que essa restrição não é ativa, ou seja, não limita a solução ótima."
      ],
      "metadata": {
        "id": "6C8joE60HDTZ"
      }
    }
  ]
}